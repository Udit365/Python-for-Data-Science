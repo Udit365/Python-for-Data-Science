{
 "cells": [
  {
   "cell_type": "markdown",
   "metadata": {
    "colab_type": "text",
    "id": "ENVtmIaCYr0Y"
   },
   "source": [
    "# Tuples\n",
    "---\n",
    "- Consists of an ordered collection of objects.\n",
    "- Some of the operations on tuples are similar to lists.\n",
    "- Tuples are enclosed between parentheses `()`.\n",
    "- Tuples are immutable (Once created, can't be modified).\n",
    "\n",
    "> ***Example :***</br>\n",
    "*Create a tuple with employee id, name, age, salary details*"
   ]
  },
  {
   "cell_type": "code",
   "execution_count": 2,
   "metadata": {
    "colab": {
     "base_uri": "https://localhost:8080/",
     "height": 34
    },
    "colab_type": "code",
    "executionInfo": {
     "elapsed": 1185,
     "status": "ok",
     "timestamp": 1580928013054,
     "user": {
      "displayName": "Udit Brandscapes",
      "photoUrl": "",
      "userId": "05474842254872579661"
     },
     "user_tz": -330
    },
    "id": "jFFOnQlnfS_A",
    "outputId": "7baab693-305d-4d80-b528-74100b09b807"
   },
   "outputs": [
    {
     "name": "stdout",
     "output_type": "stream",
     "text": [
      "('P001', 'Jhon', 35, 40000)\n"
     ]
    }
   ],
   "source": [
    "emp_details = (\"P001\", \"Jhon\", 35, 40000)\n",
    "print(emp_details)"
   ]
  },
  {
   "cell_type": "markdown",
   "metadata": {
    "colab_type": "text",
    "id": "k_v9J5B3fsjS"
   },
   "source": [
    "## Accessing the Tuple Components\n",
    "---\n",
    "- To access components, use single slicing operator `[]`\n",
    ">***syntax :*** </br>*tuple_name[index]*\n",
    "\n",
    "> ***Example :***</br>\n",
    "*Extract \"employee id\" from \"emp_details\" tuple*\n",
    "\n"
   ]
  },
  {
   "cell_type": "code",
   "execution_count": 0,
   "metadata": {
    "colab": {
     "base_uri": "https://localhost:8080/",
     "height": 34
    },
    "colab_type": "code",
    "executionInfo": {
     "elapsed": 1424,
     "status": "ok",
     "timestamp": 1580841821457,
     "user": {
      "displayName": "Udit Brandscapes",
      "photoUrl": "",
      "userId": "05474842254872579661"
     },
     "user_tz": -330
    },
    "id": "KtPY-hmug1nF",
    "outputId": "bd716713-19b9-4f6b-b2be-73bbe56d9aa6"
   },
   "outputs": [
    {
     "name": "stdout",
     "output_type": "stream",
     "text": [
      "35\n"
     ]
    }
   ],
   "source": [
    "print(emp_details[2])"
   ]
  },
  {
   "cell_type": "markdown",
   "metadata": {
    "colab_type": "text",
    "id": "Y9cIcfC_hjhB"
   },
   "source": [
    "## Slicing\n",
    "---\n",
    "- Used to access a set of elements from a tuple by creating a range of index numbers `[x:y]`.\n",
    "- x-index number is where the slice starts (inclusive).\n",
    "- y-index number is where the slice ends (exclusive).\n",
    "\n",
    ">***Example :***</br>\n",
    "*Extract \"name\" & \"age\" from \"emp_details\" tuple*\n",
    "\n",
    "\n"
   ]
  },
  {
   "cell_type": "code",
   "execution_count": 0,
   "metadata": {
    "colab": {
     "base_uri": "https://localhost:8080/",
     "height": 34
    },
    "colab_type": "code",
    "executionInfo": {
     "elapsed": 1547,
     "status": "ok",
     "timestamp": 1580842558337,
     "user": {
      "displayName": "Udit Brandscapes",
      "photoUrl": "",
      "userId": "05474842254872579661"
     },
     "user_tz": -330
    },
    "id": "F-azyoJWjpbD",
    "outputId": "db435b70-fb92-458d-c88d-adbdeacd07f3"
   },
   "outputs": [
    {
     "name": "stdout",
     "output_type": "stream",
     "text": [
      "('Jhon', 35)\n"
     ]
    }
   ],
   "source": [
    "print(emp_details[1:3])"
   ]
  },
  {
   "cell_type": "markdown",
   "metadata": {
    "colab_type": "text",
    "id": "EXoCw1gpm-OS"
   },
   "source": [
    "> *Extract \"employee id\", \"name\" & \"age\" from \"emp_details\" tuple*"
   ]
  },
  {
   "cell_type": "code",
   "execution_count": 0,
   "metadata": {
    "colab": {
     "base_uri": "https://localhost:8080/",
     "height": 34
    },
    "colab_type": "code",
    "executionInfo": {
     "elapsed": 1180,
     "status": "ok",
     "timestamp": 1580843845454,
     "user": {
      "displayName": "Udit Brandscapes",
      "photoUrl": "",
      "userId": "05474842254872579661"
     },
     "user_tz": -330
    },
    "id": "E4INu81IonIq",
    "outputId": "6c9f2b18-3ced-4f57-9ea3-03ff67d54982"
   },
   "outputs": [
    {
     "name": "stdout",
     "output_type": "stream",
     "text": [
      "('P001', 'Jhon', 35)\n"
     ]
    }
   ],
   "source": [
    "print(emp_details[:3])"
   ]
  },
  {
   "cell_type": "markdown",
   "metadata": {
    "colab_type": "text",
    "id": "u25iyHMRox7-"
   },
   "source": [
    "## Length of the tuple\n",
    "---\n",
    "- `len()` -: returns the length of tuple\n",
    "- > ***syntax :***</br>*len(tuple_name)*\n",
    "\n",
    "> ***Example :***\n",
    "\n"
   ]
  },
  {
   "cell_type": "code",
   "execution_count": 3,
   "metadata": {
    "colab": {
     "base_uri": "https://localhost:8080/",
     "height": 34
    },
    "colab_type": "code",
    "executionInfo": {
     "elapsed": 1518,
     "status": "ok",
     "timestamp": 1580928021149,
     "user": {
      "displayName": "Udit Brandscapes",
      "photoUrl": "",
      "userId": "05474842254872579661"
     },
     "user_tz": -330
    },
    "id": "sDHe7Vr7poBo",
    "outputId": "8cd4e50e-445e-440d-92ca-c59d14929525"
   },
   "outputs": [
    {
     "data": {
      "text/plain": [
       "4"
      ]
     },
     "execution_count": 3,
     "metadata": {
      "tags": []
     },
     "output_type": "execute_result"
    }
   ],
   "source": [
    "len(emp_details)"
   ]
  },
  {
   "cell_type": "markdown",
   "metadata": {
    "colab_type": "text",
    "id": "ri-WwYq6p1yp"
   },
   "source": [
    "## Minimum & Maximum from tuple\n",
    "---\n",
    "- `min()` -: returns the lowest value in the tuple\n",
    "- `max()` -: returns the highest value in the tuple\n",
    "- > ***syntax :***</br>*min(tuple_name)* or, </br>*max(tuple_name)*\n",
    "\n",
    "> ***Example :***</br>*Create a tuple of marks secured by students in English and then, find the minimum and maximum marks secured*"
   ]
  },
  {
   "cell_type": "code",
   "execution_count": 5,
   "metadata": {
    "colab": {
     "base_uri": "https://localhost:8080/",
     "height": 34
    },
    "colab_type": "code",
    "executionInfo": {
     "elapsed": 1721,
     "status": "ok",
     "timestamp": 1580928384682,
     "user": {
      "displayName": "Udit Brandscapes",
      "photoUrl": "",
      "userId": "05474842254872579661"
     },
     "user_tz": -330
    },
    "id": "Cn1jKt5pqyFg",
    "outputId": "7123cd05-e592-4d5e-a334-9b8ea390dd55"
   },
   "outputs": [
    {
     "name": "stdout",
     "output_type": "stream",
     "text": [
      "(56, 78, 92, 35, 23, 41, 52, 33)\n"
     ]
    }
   ],
   "source": [
    "English_Marks = (56,78,92,35,23,41,52,33)\n",
    "print(English_Marks)"
   ]
  },
  {
   "cell_type": "code",
   "execution_count": 6,
   "metadata": {
    "colab": {
     "base_uri": "https://localhost:8080/",
     "height": 34
    },
    "colab_type": "code",
    "executionInfo": {
     "elapsed": 1608,
     "status": "ok",
     "timestamp": 1580928399406,
     "user": {
      "displayName": "Udit Brandscapes",
      "photoUrl": "",
      "userId": "05474842254872579661"
     },
     "user_tz": -330
    },
    "id": "A8gGxNX5rNX6",
    "outputId": "21c43a9c-3a36-4ebd-cb37-702d20cb7e78"
   },
   "outputs": [
    {
     "data": {
      "text/plain": [
       "23"
      ]
     },
     "execution_count": 6,
     "metadata": {
      "tags": []
     },
     "output_type": "execute_result"
    }
   ],
   "source": [
    "min (English_Marks)"
   ]
  },
  {
   "cell_type": "code",
   "execution_count": 7,
   "metadata": {
    "colab": {
     "base_uri": "https://localhost:8080/",
     "height": 34
    },
    "colab_type": "code",
    "executionInfo": {
     "elapsed": 1150,
     "status": "ok",
     "timestamp": 1580928417054,
     "user": {
      "displayName": "Udit Brandscapes",
      "photoUrl": "",
      "userId": "05474842254872579661"
     },
     "user_tz": -330
    },
    "id": "TXweoO-8rQwg",
    "outputId": "dec45218-9827-4d87-b4e7-caf9da721fb6"
   },
   "outputs": [
    {
     "data": {
      "text/plain": [
       "92"
      ]
     },
     "execution_count": 7,
     "metadata": {
      "tags": []
     },
     "output_type": "execute_result"
    }
   ],
   "source": [
    "max (English_Marks)"
   ]
  },
  {
   "cell_type": "markdown",
   "metadata": {
    "colab_type": "text",
    "id": "hLp9m_TArXn4"
   },
   "source": [
    "## Combining Two Tuples\n",
    "---\n",
    "- Two tuples can be concatenated as follows -:</br>\n",
    "`(tuple 1)`+`(tuple 2)`\n",
    "***Example :***</br>*Create a tuple with employee education and department details and then combine the tuple with \"emp_details\" tuple.*"
   ]
  },
  {
   "cell_type": "code",
   "execution_count": 9,
   "metadata": {
    "colab": {
     "base_uri": "https://localhost:8080/",
     "height": 34
    },
    "colab_type": "code",
    "executionInfo": {
     "elapsed": 1314,
     "status": "ok",
     "timestamp": 1580928674218,
     "user": {
      "displayName": "Udit Brandscapes",
      "photoUrl": "",
      "userId": "05474842254872579661"
     },
     "user_tz": -330
    },
    "id": "m8Ap3NFRr7to",
    "outputId": "065e20f9-1a5f-4bd2-ac54-23ece4e81dd4"
   },
   "outputs": [
    {
     "name": "stdout",
     "output_type": "stream",
     "text": [
      "('M.Com', 'Accounts')\n"
     ]
    }
   ],
   "source": [
    "emp_details2 = (\"M.Com\", \"Accounts\")\n",
    "print(emp_details2)"
   ]
  },
  {
   "cell_type": "code",
   "execution_count": 10,
   "metadata": {
    "colab": {
     "base_uri": "https://localhost:8080/",
     "height": 34
    },
    "colab_type": "code",
    "executionInfo": {
     "elapsed": 1185,
     "status": "ok",
     "timestamp": 1580928746089,
     "user": {
      "displayName": "Udit Brandscapes",
      "photoUrl": "",
      "userId": "05474842254872579661"
     },
     "user_tz": -330
    },
    "id": "eUNpxWamsdbv",
    "outputId": "b45be19a-e0e0-482e-ae6f-d94c995f05cd"
   },
   "outputs": [
    {
     "name": "stdout",
     "output_type": "stream",
     "text": [
      "('P001', 'Jhon', 35, 40000, 'M.Com', 'Accounts')\n"
     ]
    }
   ],
   "source": [
    "print(emp_details + emp_details2)"
   ]
  },
  {
   "cell_type": "markdown",
   "metadata": {
    "colab_type": "text",
    "id": "gGG4TXZOsm_l"
   },
   "source": [
    "## Modifying Components of a Tuple\n",
    "---\n",
    "- Tuples are different from lists in the sense tuples can't be modified.\n",
    "- Elements can't be added or, removed from the tuples using the index number or, functions (append, del, remove etc.)\n",
    "\n",
    "\n"
   ]
  }
 ],
 "metadata": {
  "colab": {
   "authorship_tag": "ABX9TyMyOPdC/+0q9Ar8Bxc3gPsx",
   "collapsed_sections": [],
   "name": "Tuples.ipynb",
   "provenance": []
  },
  "kernelspec": {
   "display_name": "Python 3",
   "language": "python",
   "name": "python3"
  },
  "language_info": {
   "codemirror_mode": {
    "name": "ipython",
    "version": 3
   },
   "file_extension": ".py",
   "mimetype": "text/x-python",
   "name": "python",
   "nbconvert_exporter": "python",
   "pygments_lexer": "ipython3",
   "version": "3.7.6"
  }
 },
 "nbformat": 4,
 "nbformat_minor": 1
}
