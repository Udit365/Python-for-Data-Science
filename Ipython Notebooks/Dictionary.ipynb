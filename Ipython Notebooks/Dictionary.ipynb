{
 "cells": [
  {
   "cell_type": "markdown",
   "metadata": {
    "colab_type": "text",
    "id": "yPSkev9mtPvL"
   },
   "source": [
    "# Dictionary\n",
    "---\n",
    "- Python dictionaries is an example of hash-table data structure.\n",
    "- Work like key-value pairs, where the keys are mapped to values.\n",
    "- Dictionaries are enclosed by curly braces `{}`.\n",
    "\n",
    "> ***Example :***</br>*Create a dictionary with different fuel types category*"
   ]
  },
  {
   "cell_type": "code",
   "execution_count": 1,
   "metadata": {
    "colab": {
     "base_uri": "https://localhost:8080/",
     "height": 34
    },
    "colab_type": "code",
    "executionInfo": {
     "elapsed": 2480,
     "status": "ok",
     "timestamp": 1581013369639,
     "user": {
      "displayName": "Udit Brandscapes",
      "photoUrl": "",
      "userId": "05474842254872579661"
     },
     "user_tz": -330
    },
    "id": "0xKau2qXtryM",
    "outputId": "d9aba45f-cf09-4617-b72b-f9671d1d4581"
   },
   "outputs": [
    {
     "name": "stdout",
     "output_type": "stream",
     "text": [
      "{'Petrol': 1, 'Diesel': 2, 'CNG': 3}\n"
     ]
    }
   ],
   "source": [
    "Fuel_type = {\"Petrol\":1, \"Diesel\":2, \"CNG\":3}\n",
    "print(Fuel_type)"
   ]
  },
  {
   "cell_type": "markdown",
   "metadata": {
    "colab_type": "text",
    "id": "vKeMN4pruFpl"
   },
   "source": [
    "## Accessing Components of Dictionary\n",
    "---\n",
    "- To know the value of the key ***Petrol*** from the ***Fuel_type***, we have to write the following code :\n"
   ]
  },
  {
   "cell_type": "code",
   "execution_count": 0,
   "metadata": {
    "colab": {
     "base_uri": "https://localhost:8080/",
     "height": 34
    },
    "colab_type": "code",
    "executionInfo": {
     "elapsed": 1343,
     "status": "ok",
     "timestamp": 1580929290361,
     "user": {
      "displayName": "Udit Brandscapes",
      "photoUrl": "",
      "userId": "05474842254872579661"
     },
     "user_tz": -330
    },
    "id": "zlsQ-ib5ujCD",
    "outputId": "4c71a1e4-c2c4-45bc-d651-2c62f6d64836"
   },
   "outputs": [
    {
     "name": "stdout",
     "output_type": "stream",
     "text": [
      "1\n"
     ]
    }
   ],
   "source": [
    "print(Fuel_type[\"Petrol\"])"
   ]
  },
  {
   "cell_type": "markdown",
   "metadata": {
    "colab_type": "text",
    "id": "GfarYsiOusVZ"
   },
   "source": [
    "- We can access the remaining values in the above format as well.\n",
    "- To access the keys from the dictionary ***Fuel Type*** :\n",
    "  > ***Syntax :***</br>*dictionary_name.keys()*\n",
    "  \n",
    "> ***Example :***"
   ]
  },
  {
   "cell_type": "code",
   "execution_count": 0,
   "metadata": {
    "colab": {
     "base_uri": "https://localhost:8080/",
     "height": 34
    },
    "colab_type": "code",
    "executionInfo": {
     "elapsed": 1929,
     "status": "ok",
     "timestamp": 1580929521509,
     "user": {
      "displayName": "Udit Brandscapes",
      "photoUrl": "",
      "userId": "05474842254872579661"
     },
     "user_tz": -330
    },
    "id": "WVX7JCbKvdqp",
    "outputId": "89c61c99-f77c-422f-def5-9e5fbc41f431"
   },
   "outputs": [
    {
     "data": {
      "text/plain": [
       "dict_keys(['Petrol', 'Diesel', 'CNG'])"
      ]
     },
     "execution_count": 3,
     "metadata": {
      "tags": []
     },
     "output_type": "execute_result"
    }
   ],
   "source": [
    "Fuel_type.keys()"
   ]
  },
  {
   "cell_type": "markdown",
   "metadata": {
    "colab_type": "text",
    "id": "LkPiF_pkvjz8"
   },
   "source": [
    "- To access the values from the dictionary ***Fuel Type*** :\n",
    "  > ***Syntax :***</br>*dictionary_name.values()*\n",
    "  \n",
    "> ***Example :***"
   ]
  },
  {
   "cell_type": "code",
   "execution_count": 0,
   "metadata": {
    "colab": {
     "base_uri": "https://localhost:8080/",
     "height": 34
    },
    "colab_type": "code",
    "executionInfo": {
     "elapsed": 1329,
     "status": "ok",
     "timestamp": 1580929686831,
     "user": {
      "displayName": "Udit Brandscapes",
      "photoUrl": "",
      "userId": "05474842254872579661"
     },
     "user_tz": -330
    },
    "id": "W1rEOdIvwIOZ",
    "outputId": "ad1e21e8-6c42-41ce-98f0-cb641167c3b7"
   },
   "outputs": [
    {
     "data": {
      "text/plain": [
       "dict_values([1, 2, 3])"
      ]
     },
     "execution_count": 5,
     "metadata": {
      "tags": []
     },
     "output_type": "execute_result"
    }
   ],
   "source": [
    "Fuel_type.values()"
   ]
  },
  {
   "cell_type": "markdown",
   "metadata": {
    "colab_type": "text",
    "id": "l75fz4eNwMWp"
   },
   "source": [
    "- To access both keys and values from the dictionary ***Fuel Type*** :\n",
    "  > ***Syntax :***</br>*dictionary_name.items()*\n",
    "  \n",
    "> ***Example :***"
   ]
  },
  {
   "cell_type": "code",
   "execution_count": 0,
   "metadata": {
    "colab": {
     "base_uri": "https://localhost:8080/",
     "height": 34
    },
    "colab_type": "code",
    "executionInfo": {
     "elapsed": 1468,
     "status": "ok",
     "timestamp": 1580929767472,
     "user": {
      "displayName": "Udit Brandscapes",
      "photoUrl": "",
      "userId": "05474842254872579661"
     },
     "user_tz": -330
    },
    "id": "vJpftiMHwYmu",
    "outputId": "ffdda2e0-54ce-4f5c-96f5-234b40a9c01b"
   },
   "outputs": [
    {
     "data": {
      "text/plain": [
       "dict_items([('Petrol', 1), ('Diesel', 2), ('CNG', 3)])"
      ]
     },
     "execution_count": 6,
     "metadata": {
      "tags": []
     },
     "output_type": "execute_result"
    }
   ],
   "source": [
    "Fuel_type.items()"
   ]
  },
  {
   "cell_type": "markdown",
   "metadata": {
    "colab_type": "text",
    "id": "t0F1KWRMwp3F"
   },
   "source": [
    "## Modifying Dictionary\n",
    "---\n",
    "- Adding a new (key,value) pair to the existing dictionary ***Fuel_type*** using keys.\n",
    "- > ***Syntax :***</br>*dictionary_name[key]=value*\n",
    "\n",
    "> ***Example :***\n",
    "\n"
   ]
  },
  {
   "cell_type": "code",
   "execution_count": 2,
   "metadata": {
    "colab": {
     "base_uri": "https://localhost:8080/",
     "height": 34
    },
    "colab_type": "code",
    "executionInfo": {
     "elapsed": 2425,
     "status": "ok",
     "timestamp": 1581013381016,
     "user": {
      "displayName": "Udit Brandscapes",
      "photoUrl": "",
      "userId": "05474842254872579661"
     },
     "user_tz": -330
    },
    "id": "lzFTWq-oxVUP",
    "outputId": "5c754761-a14e-479a-fe6f-ee9651bceac4"
   },
   "outputs": [
    {
     "name": "stdout",
     "output_type": "stream",
     "text": [
      "{'Petrol': 1, 'Diesel': 2, 'CNG': 3, 'Electric': 4}\n"
     ]
    }
   ],
   "source": [
    "Fuel_type[\"Electric\"] = 4\n",
    "print(Fuel_type)"
   ]
  },
  {
   "cell_type": "markdown",
   "metadata": {
    "colab_type": "text",
    "id": "FpwEw38lvjhV"
   },
   "source": [
    "### Modifying Dictionary using `update()`\n",
    "---\n",
    "\n",
    "- We can also modify the dictionary by using the `update()` command.\n",
    "-> ***Syntax :***</br>*`dictionary_name.update({key:value})`*\n",
    "\n",
    "> ***Example :***"
   ]
  },
  {
   "cell_type": "code",
   "execution_count": 3,
   "metadata": {
    "colab": {
     "base_uri": "https://localhost:8080/",
     "height": 34
    },
    "colab_type": "code",
    "executionInfo": {
     "elapsed": 1346,
     "status": "ok",
     "timestamp": 1581013666307,
     "user": {
      "displayName": "Udit Brandscapes",
      "photoUrl": "",
      "userId": "05474842254872579661"
     },
     "user_tz": -330
    },
    "id": "UW9gHHQmwRNv",
    "outputId": "106e7a50-2edf-4cf6-b78f-0ce9606ec4ab"
   },
   "outputs": [
    {
     "name": "stdout",
     "output_type": "stream",
     "text": [
      "{'Petrol': 1, 'Diesel': 2, 'CNG': 3, 'Electric': 4, 'Others': 5}\n"
     ]
    }
   ],
   "source": [
    "Fuel_type.update({\"Others\":5})\n",
    "print(Fuel_type)"
   ]
  },
  {
   "cell_type": "markdown",
   "metadata": {
    "colab_type": "text",
    "id": "cW9N1oOAwlw3"
   },
   "source": [
    "- To modify the value of an existing key\n",
    "  - Assign value to be changed to the corresponding key of the dictionary.\n",
    "  - Let's update the value of ***Others*** from ***5*** to ***6*** \n",
    "  "
   ]
  },
  {
   "cell_type": "code",
   "execution_count": 4,
   "metadata": {
    "colab": {
     "base_uri": "https://localhost:8080/",
     "height": 34
    },
    "colab_type": "code",
    "executionInfo": {
     "elapsed": 1326,
     "status": "ok",
     "timestamp": 1581014017537,
     "user": {
      "displayName": "Udit Brandscapes",
      "photoUrl": "",
      "userId": "05474842254872579661"
     },
     "user_tz": -330
    },
    "id": "AAi9H8QZxpiC",
    "outputId": "93d009cb-920f-43b9-bde7-90d950291612"
   },
   "outputs": [
    {
     "name": "stdout",
     "output_type": "stream",
     "text": [
      "{'Petrol': 1, 'Diesel': 2, 'CNG': 3, 'Electric': 4, 'Others': 6}\n"
     ]
    }
   ],
   "source": [
    "Fuel_type[\"Others\"] = 6\n",
    "print(Fuel_type)"
   ]
  },
  {
   "cell_type": "markdown",
   "metadata": {
    "colab_type": "text",
    "id": "7fBkRQ6YyXqD"
   },
   "source": [
    "### Modifying Dictionary using `del()`\n",
    "---\n",
    "- `del()` : removes the (key,value) pairs.\n",
    "- > ***Syntax :***</br>*`del dictionary_name[key]`*\n",
    "\n",
    "> ***Example :***</br>*Let's drop the key <b>Others</b> from <b>Fuel_type</b>*"
   ]
  },
  {
   "cell_type": "code",
   "execution_count": 5,
   "metadata": {
    "colab": {
     "base_uri": "https://localhost:8080/",
     "height": 34
    },
    "colab_type": "code",
    "executionInfo": {
     "elapsed": 2036,
     "status": "ok",
     "timestamp": 1581014400317,
     "user": {
      "displayName": "Udit Brandscapes",
      "photoUrl": "",
      "userId": "05474842254872579661"
     },
     "user_tz": -330
    },
    "id": "R5RSwnzfzKLF",
    "outputId": "210ca9ec-06e8-4dbf-cade-4349b7597642"
   },
   "outputs": [
    {
     "name": "stdout",
     "output_type": "stream",
     "text": [
      "{'Petrol': 1, 'Diesel': 2, 'CNG': 3, 'Electric': 4}\n"
     ]
    }
   ],
   "source": [
    "del Fuel_type[\"Others\"]\n",
    "print(Fuel_type)"
   ]
  },
  {
   "cell_type": "markdown",
   "metadata": {
    "colab_type": "text",
    "id": "vZKbEXXvzd7A"
   },
   "source": [
    "### Modifying Dictionary using `clear()`\n",
    "---\n",
    "- `clear()` : removes all the (key,value) pairs.\n",
    "- > ***Syntax :***</br>*`dictionary_name.clear()`*\n",
    "\n",
    "> ***Example :***</br>*Clear and then print the null dictionary*"
   ]
  },
  {
   "cell_type": "code",
   "execution_count": 6,
   "metadata": {
    "colab": {
     "base_uri": "https://localhost:8080/",
     "height": 34
    },
    "colab_type": "code",
    "executionInfo": {
     "elapsed": 1605,
     "status": "ok",
     "timestamp": 1581014564755,
     "user": {
      "displayName": "Udit Brandscapes",
      "photoUrl": "",
      "userId": "05474842254872579661"
     },
     "user_tz": -330
    },
    "id": "lMQvmnIqz0Gz",
    "outputId": "e7b44706-674f-4152-b96a-383f33d07c21"
   },
   "outputs": [
    {
     "name": "stdout",
     "output_type": "stream",
     "text": [
      "{}\n"
     ]
    }
   ],
   "source": [
    "Fuel_type.clear()\n",
    "print(Fuel_type)"
   ]
  },
  {
   "cell_type": "markdown",
   "metadata": {
    "colab_type": "text",
    "id": "jQmcUgaOx9HV"
   },
   "source": [
    "- "
   ]
  }
 ],
 "metadata": {
  "colab": {
   "authorship_tag": "ABX9TyOE6pJkUI54vir2Q1LibCfJ",
   "collapsed_sections": [],
   "name": "Dictionary.ipynb",
   "provenance": [
    {
     "file_id": "1LlR41hGXDoLK8K-m8XZgc4a6Kk1Mf9Vt",
     "timestamp": 1580839214636
    }
   ]
  },
  "kernelspec": {
   "display_name": "Python 3",
   "language": "python",
   "name": "python3"
  },
  "language_info": {
   "codemirror_mode": {
    "name": "ipython",
    "version": 3
   },
   "file_extension": ".py",
   "mimetype": "text/x-python",
   "name": "python",
   "nbconvert_exporter": "python",
   "pygments_lexer": "ipython3",
   "version": "3.7.6"
  }
 },
 "nbformat": 4,
 "nbformat_minor": 1
}
