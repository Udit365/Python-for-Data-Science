{
 "cells": [
  {
   "cell_type": "markdown",
   "metadata": {},
   "source": [
    "# Numpy\n",
    "---"
   ]
  },
  {
   "cell_type": "markdown",
   "metadata": {},
   "source": [
    "* Numpy stands for \"Numerical Python\"\n",
    "* It is the fundamental package for numerical calculations.\n",
    "* Supports N-dimensional array objects that can be used for processing multi-dimensional data.\n",
    "* Supports different datatypes."
   ]
  },
  {
   "cell_type": "markdown",
   "metadata": {},
   "source": [
    "### Using Numpy we can perform the following -:"
   ]
  },
  {
   "cell_type": "markdown",
   "metadata": {},
   "source": [
    "* Mathematical & logical operation on arrays\n",
    "* Fourier transformation\n",
    "* Linear algebra operations\n",
    "* Random number generations"
   ]
  },
  {
   "cell_type": "markdown",
   "metadata": {},
   "source": [
    "## Create an array\n",
    "---\n",
    "\n",
    "* An array is an ordered collection of elements of basic datatypes of given length.\n",
    "* __*Syntax :*__\n",
    "\n",
    "```python\n",
    "numpy.array(object)\n",
    "```"
   ]
  },
  {
   "cell_type": "code",
   "execution_count": 1,
   "metadata": {},
   "outputs": [
    {
     "name": "stdout",
     "output_type": "stream",
     "text": [
      "[2 3 4 5]\n",
      "<class 'numpy.ndarray'>\n"
     ]
    }
   ],
   "source": [
    "import numpy as np #Importing the numpy\n",
    "x = np.array([2,3,4,5])\n",
    "print(x)\n",
    "print(type(x)) #To see the datatype of \"X\""
   ]
  },
  {
   "cell_type": "markdown",
   "metadata": {},
   "source": [
    "* Numpy can handle different categorical entries."
   ]
  },
  {
   "cell_type": "code",
   "execution_count": 2,
   "metadata": {},
   "outputs": [
    {
     "name": "stdout",
     "output_type": "stream",
     "text": [
      "['2' '3' 'n' '5']\n",
      "<class 'numpy.ndarray'>\n"
     ]
    }
   ],
   "source": [
    "y = np.array(['2','3','n','5'])\n",
    "print(y)\n",
    "print(type(y))"
   ]
  },
  {
   "cell_type": "markdown",
   "metadata": {},
   "source": [
    "* All elements are coerced to the same data type"
   ]
  },
  {
   "cell_type": "markdown",
   "metadata": {},
   "source": [
    "## Generate arrays using linspace()\n",
    "---\n",
    "`numpy.linspace()` -: Returns equally spaced numbers within a given range based on the sample number\n",
    "\n",
    "__*Syntax :*__\n",
    "\n",
    "```python\n",
    "numpy.linspace(start, stop, num, dtype, endpoint ,retstep)\n",
    "```\n",
    "\n",
    "* start - start of interval range\n",
    "* stop - end of interval range\n",
    "* num - number of samples to be generated\n",
    "* dtype - type of output array (By default = float type)\n",
    "* endpoint - \"True\" to include the \"stop\" value as endpoint\n",
    "* retstep - returns the sample, step value (By default = True)"
   ]
  },
  {
   "cell_type": "code",
   "execution_count": 9,
   "metadata": {},
   "outputs": [
    {
     "name": "stdout",
     "output_type": "stream",
     "text": [
      "[1.         1.44444444 1.88888889 2.33333333 2.77777778 3.22222222\n",
      " 3.66666667 4.11111111 4.55555556 5.        ]\n"
     ]
    }
   ],
   "source": [
    "#Generate an array \"b\" with \"start = 1\" and \"stop = 5\"\n",
    "\n",
    "b = np.linspace(start = 1, stop = 5, num = 10, endpoint = True ,retstep = False)\n",
    "print(b)"
   ]
  },
  {
   "cell_type": "markdown",
   "metadata": {},
   "source": [
    "Specifying `retstep = True` returns the sample as well as the step value."
   ]
  },
  {
   "cell_type": "code",
   "execution_count": 15,
   "metadata": {},
   "outputs": [
    {
     "name": "stdout",
     "output_type": "stream",
     "text": [
      "(array([1.        , 1.44444444, 1.88888889, 2.33333333, 2.77777778,\n",
      "       3.22222222, 3.66666667, 4.11111111, 4.55555556, 5.        ]), 0.4444444444444444)\n"
     ]
    }
   ],
   "source": [
    "c = np.linspace(start=1, stop=5, num=10, endpoint=True, retstep=True)\n",
    "print(c)"
   ]
  },
  {
   "cell_type": "markdown",
   "metadata": {},
   "source": [
    "## Generate arrays using arange()\n",
    "---\n",
    "\n",
    "`numpy.arange()` - Returns equally spaced numbers within a given range based on the step size.\n",
    "\n",
    "***Syntax :***\n",
    "\n",
    "```python\n",
    "numpy.arange(start, stop, step)\n",
    "```\n",
    "* start - start of interval range\n",
    "* stop - stop of interval range\n",
    "* step - step size of the interval range"
   ]
  },
  {
   "cell_type": "code",
   "execution_count": 16,
   "metadata": {},
   "outputs": [
    {
     "name": "stdout",
     "output_type": "stream",
     "text": [
      "[1 3 5 7 9]\n"
     ]
    }
   ],
   "source": [
    "#Generate an array with \"start = 1\" and \"stop = 10\" by specifying \"step = 2\"\n",
    "\n",
    "d = np.arange(start = 1, stop = 10, step = 2)\n",
    "print(d)"
   ]
  },
  {
   "cell_type": "markdown",
   "metadata": {},
   "source": [
    "## Generate arrays using ones()\n",
    "---\n",
    "\n",
    "`numpy.ones()` - Returns an array with given shape and type filled with ones.\n",
    "\n",
    "***Syntax :***\n",
    "\n",
    "```python\n",
    "numpy.ones(shape, dtype)\n",
    "```\n",
    "\n",
    "* shape - integer or, sequence of integers\n",
    "* dtype - datatype (default = float type)"
   ]
  },
  {
   "cell_type": "code",
   "execution_count": 17,
   "metadata": {},
   "outputs": [
    {
     "name": "stdout",
     "output_type": "stream",
     "text": [
      "[[1. 1. 1. 1.]\n",
      " [1. 1. 1. 1.]\n",
      " [1. 1. 1. 1.]]\n"
     ]
    }
   ],
   "source": [
    "#example -:\n",
    "\n",
    "one = np.ones((3,4)) #A matrix of 3 rows and 4 columns filled with one.\n",
    "print(one)"
   ]
  },
  {
   "cell_type": "markdown",
   "metadata": {},
   "source": [
    "## Generate arrays using zeros()\n",
    "---\n",
    "\n",
    "`numpy.zeros()` - Returns an array with given shape and type filled with zeros.\n",
    "\n",
    "***Syntax :***\n",
    "\n",
    "```python\n",
    "numpy.zeros(shape, dtype)\n",
    "```\n",
    "\n",
    "* shape - integer or, sequence of integers\n",
    "* dtype - datatype (default = float type)"
   ]
  },
  {
   "cell_type": "code",
   "execution_count": 18,
   "metadata": {},
   "outputs": [
    {
     "name": "stdout",
     "output_type": "stream",
     "text": [
      "[[0. 0. 0. 0.]\n",
      " [0. 0. 0. 0.]\n",
      " [0. 0. 0. 0.]]\n"
     ]
    }
   ],
   "source": [
    "#example -:\n",
    "\n",
    "zero = np.zeros((3,4))\n",
    "print(zero)"
   ]
  },
  {
   "cell_type": "markdown",
   "metadata": {},
   "source": [
    "## Generate arrays using random.rand()\n",
    "---\n",
    "`numpy.random.rand` - Returns an array of given shape filled with random values.\n",
    "\n",
    "***Syntax :***\n",
    "\n",
    "```python\n",
    "numpy.random.rand(shape)\n",
    "```\n",
    "\n",
    "* shape - integer or, sequence of intergers"
   ]
  },
  {
   "cell_type": "code",
   "execution_count": 26,
   "metadata": {},
   "outputs": [
    {
     "name": "stdout",
     "output_type": "stream",
     "text": [
      "[0.67020924 0.5723663  0.04279967 0.90709403 0.50032209]\n"
     ]
    }
   ],
   "source": [
    "#Generating an one-dimesional array with random numbers\n",
    "\n",
    "random = np.random.rand(5)\n",
    "print(random)"
   ]
  },
  {
   "cell_type": "code",
   "execution_count": 24,
   "metadata": {},
   "outputs": [
    {
     "name": "stdout",
     "output_type": "stream",
     "text": [
      "[[0.45983074 0.36156621]\n",
      " [0.5414103  0.94879059]\n",
      " [0.38512176 0.88212573]\n",
      " [0.63933826 0.66564052]\n",
      " [0.65167438 0.43575454]]\n"
     ]
    }
   ],
   "source": [
    "#Generating a random array with 5 rows and 2 columns\n",
    "\n",
    "random1 = np.random.rand(5,2)\n",
    "print(random1)"
   ]
  },
  {
   "cell_type": "markdown",
   "metadata": {},
   "source": [
    "## Generate arrays using logspace()\n",
    "---\n",
    "\n",
    "`numpy.logspace` - Returns equally spaced numbers based on log scale.\n",
    "\n",
    "***Syntax :***\n",
    "\n",
    "```python\n",
    "numpy.logspace(start, stop, num, endpoint, base, dtype)\n",
    "```\n",
    "\n",
    "* start - Start value of the sequence\n",
    "* stop - Stop value of the sequence\n",
    "* num - Number of samples to be generated (Default : 50)\n",
    "* endpoint - If `True` then, `stop` is the last sample\n",
    "* base - Base of the logspace (Default : 10.0)\n",
    "* dtype - Type of the output array"
   ]
  },
  {
   "cell_type": "code",
   "execution_count": 27,
   "metadata": {},
   "outputs": [
    {
     "name": "stdout",
     "output_type": "stream",
     "text": [
      "[1.00000000e+01 1.77827941e+03 3.16227766e+05 5.62341325e+07\n",
      " 1.00000000e+10]\n"
     ]
    }
   ],
   "source": [
    "#Generate an array with 5 samples and base = 10.0\n",
    "\n",
    "logs = np.logspace(start = 1, stop = 10, num = 5, base = 10.0, endpoint = True)\n",
    "print(logs)"
   ]
  },
  {
   "cell_type": "markdown",
   "metadata": {},
   "source": [
    "## Advantages of Numpy\n",
    "---\n",
    "\n",
    "* Numpy supports vectorized operations\n",
    "* Array operations are caried out in \"C\" and hence the universal functions in numpy are faster than operations carried out on python lists.\n",
    "\n",
    "### Advantages of Numpy - Speed\n",
    "---\n",
    "\n",
    "* `%timeit` module can be used to measure the execution time for snippets of code.\n",
    "* Let's compare the processing speed of the list and an array using an addition operation."
   ]
  },
  {
   "cell_type": "code",
   "execution_count": 29,
   "metadata": {},
   "outputs": [
    {
     "name": "stdout",
     "output_type": "stream",
     "text": [
      "21.3 µs ± 1.21 µs per loop (mean ± std. dev. of 7 runs, 10000 loops each)\n"
     ]
    }
   ],
   "source": [
    "#Creating a list\n",
    "\n",
    "lst = range(1000)\n",
    "%timeit sum(lst)"
   ]
  },
  {
   "cell_type": "code",
   "execution_count": 30,
   "metadata": {},
   "outputs": [
    {
     "name": "stdout",
     "output_type": "stream",
     "text": [
      "6.72 µs ± 291 ns per loop (mean ± std. dev. of 7 runs, 100000 loops each)\n"
     ]
    }
   ],
   "source": [
    "#Creating a numpy array\n",
    "\n",
    "numarr = np.array(lst)\n",
    "%timeit np.sum(numarr)"
   ]
  },
  {
   "cell_type": "markdown",
   "metadata": {},
   "source": [
    "We can clearly see that the numpy array works faster than the python list"
   ]
  },
  {
   "cell_type": "markdown",
   "metadata": {},
   "source": [
    "### Advantages of Numpy - Storage Space\n",
    "---\n",
    "\n",
    "* `getsizeof()` - Retuns the size of the object in bytes.\n",
    "\n",
    "***Syntax :***\n",
    "\n",
    "```python\n",
    "sys.getsizeof(object)\n",
    "```\n",
    "* `itemsize` - Returns the size of one element of numpy array\n",
    "\n",
    "***Syntax :***\n",
    "\n",
    "```python\n",
    "numpy.ndarray.itemsize\n",
    "```\n",
    "\n",
    "* Size of the list/array can be found by multiplying the size of an individual element with the number of elements in the list/array.\n"
   ]
  },
  {
   "cell_type": "code",
   "execution_count": 31,
   "metadata": {},
   "outputs": [
    {
     "data": {
      "text/plain": [
       "28000"
      ]
     },
     "execution_count": 31,
     "metadata": {},
     "output_type": "execute_result"
    }
   ],
   "source": [
    "#Let's compare the list \"lst\" and the array \"numarr\" to find the memory used by each at runtime.\n",
    "\n",
    "import sys\n",
    "sys.getsizeof(1)*len(lst)"
   ]
  },
  {
   "cell_type": "code",
   "execution_count": 32,
   "metadata": {},
   "outputs": [
    {
     "data": {
      "text/plain": [
       "4000"
      ]
     },
     "execution_count": 32,
     "metadata": {},
     "output_type": "execute_result"
    }
   ],
   "source": [
    "numarr.itemsize * numarr.size"
   ]
  },
  {
   "cell_type": "markdown",
   "metadata": {},
   "source": [
    "We can clearly see that the numpy array uses less bytes for storage than the python list."
   ]
  },
  {
   "cell_type": "markdown",
   "metadata": {},
   "source": [
    "## Reshaping an array\n",
    "---\n",
    "\n",
    "`reshape()` - Recasts an array in a new shape without changing its data."
   ]
  },
  {
   "cell_type": "code",
   "execution_count": 33,
   "metadata": {},
   "outputs": [
    {
     "name": "stdout",
     "output_type": "stream",
     "text": [
      "[[1 2 3]\n",
      " [4 5 6]\n",
      " [7 8 9]]\n"
     ]
    }
   ],
   "source": [
    "grid = np.arange(start = 1, stop = 10).reshape(3,3)\n",
    "print(grid)"
   ]
  },
  {
   "cell_type": "markdown",
   "metadata": {},
   "source": [
    "## Array Dimensions\n",
    "---\n",
    "\n",
    "`shape` - Returns the dimension of an array\n",
    "\n",
    "***Syntax :***\n",
    "\n",
    "```python\n",
    "array_name.shape\n",
    "```"
   ]
  },
  {
   "cell_type": "code",
   "execution_count": 35,
   "metadata": {},
   "outputs": [
    {
     "name": "stdout",
     "output_type": "stream",
     "text": [
      "[[1 2 3]\n",
      " [4 5 6]\n",
      " [7 8 9]]\n"
     ]
    },
    {
     "data": {
      "text/plain": [
       "(3, 3)"
      ]
     },
     "execution_count": 35,
     "metadata": {},
     "output_type": "execute_result"
    }
   ],
   "source": [
    "#Create an array \"a\"\n",
    "\n",
    "a = np.array([[1,2,3],[4,5,6],[7,8,9]])\n",
    "print(a)\n",
    "a.shape"
   ]
  },
  {
   "cell_type": "markdown",
   "metadata": {},
   "source": [
    "## Numpy Addition\n",
    "---\n",
    "\n",
    "* `numpy.sum()` - Returns the sum of all array elements or, sum of all array elements over a given axis\n",
    "\n",
    "***Syntax :***\n",
    "\n",
    "```python\n",
    "numpy.sum(array, axis)\n",
    "```\n",
    "In the above syntax -:\n",
    "\n",
    "* array() - Input array\n",
    "* axis - axis along which the sum should be calculated"
   ]
  },
  {
   "cell_type": "code",
   "execution_count": 37,
   "metadata": {},
   "outputs": [
    {
     "name": "stdout",
     "output_type": "stream",
     "text": [
      "45\n",
      "[12 15 18]\n",
      "[ 6 15 24]\n"
     ]
    }
   ],
   "source": [
    "print(np.sum(a)) #Calculates the sum of all the elements in the arrays\n",
    "\n",
    "print(np.sum(a, axis = 0)) #Calculates the sum of elements along the column (axis = 0)\n",
    "\n",
    "print(np.sum(a, axis = 1)) #Calculates the sum of elements along the row (axis = 1)"
   ]
  },
  {
   "cell_type": "markdown",
   "metadata": {},
   "source": [
    "`numpy.add()` - Performs the elementwise addition between two arrays\n",
    "\n",
    "***Syntax :***\n",
    "\n",
    "```python\n",
    "numpy.add(array_1, array_2)\n",
    "```"
   ]
  },
  {
   "cell_type": "code",
   "execution_count": 39,
   "metadata": {},
   "outputs": [
    {
     "name": "stdout",
     "output_type": "stream",
     "text": [
      "[[1 2 3]\n",
      " [4 5 6]\n",
      " [7 8 9]]\n",
      "[[11 12 13]\n",
      " [14 15 16]\n",
      " [17 18 19]]\n"
     ]
    }
   ],
   "source": [
    "#Let's create 2 arrays\n",
    "\n",
    "m = np.arange(start = 1, stop = 10).reshape(3,3)\n",
    "n = np.arange(start = 11, stop = 20).reshape(3,3)\n",
    "\n",
    "print(m)\n",
    "print(n)"
   ]
  },
  {
   "cell_type": "code",
   "execution_count": 40,
   "metadata": {},
   "outputs": [
    {
     "name": "stdout",
     "output_type": "stream",
     "text": [
      "[[12 14 16]\n",
      " [18 20 22]\n",
      " [24 26 28]]\n"
     ]
    }
   ],
   "source": [
    "#Let's perform the elementwise addition\n",
    "\n",
    "add_result = np.add(m,n)\n",
    "print(add_result)"
   ]
  },
  {
   "cell_type": "markdown",
   "metadata": {},
   "source": [
    "* `numpy.multiply()` - Performs elementwise multiplication between two arrays\n",
    "* `numpy.subtract()` - Perfroms elementwise subtraction between two arrays\n",
    "* `numpy.divide()` - Performs elementwise division between two arrays\n",
    "* `numpy.remainder()` - Retruns elementwise remainder of division between two arrays"
   ]
  },
  {
   "cell_type": "code",
   "execution_count": 41,
   "metadata": {},
   "outputs": [
    {
     "name": "stdout",
     "output_type": "stream",
     "text": [
      "[[10 10 10]\n",
      " [10 10 10]\n",
      " [10 10 10]]\n"
     ]
    }
   ],
   "source": [
    "#Let's perform elementwise subtraction\n",
    "\n",
    "subtract_result = np.subtract(n,m)\n",
    "print(subtract_result)"
   ]
  },
  {
   "cell_type": "code",
   "execution_count": 42,
   "metadata": {},
   "outputs": [
    {
     "name": "stdout",
     "output_type": "stream",
     "text": [
      "[[ 11  24  39]\n",
      " [ 56  75  96]\n",
      " [119 144 171]]\n"
     ]
    }
   ],
   "source": [
    "#Let's perform elementwise multiplication\n",
    "\n",
    "mult_result = np.multiply(m,n)\n",
    "print(mult_result)"
   ]
  },
  {
   "cell_type": "code",
   "execution_count": 44,
   "metadata": {},
   "outputs": [
    {
     "name": "stdout",
     "output_type": "stream",
     "text": [
      "[[11.          6.          4.33333333]\n",
      " [ 3.5         3.          2.66666667]\n",
      " [ 2.42857143  2.25        2.11111111]]\n"
     ]
    }
   ],
   "source": [
    "#Let's perform elementwise division\n",
    "\n",
    "div_result = np.divide(n,m)\n",
    "print(div_result)"
   ]
  },
  {
   "cell_type": "code",
   "execution_count": 45,
   "metadata": {},
   "outputs": [
    {
     "name": "stdout",
     "output_type": "stream",
     "text": [
      "[[0 0 1]\n",
      " [2 0 4]\n",
      " [3 2 1]]\n"
     ]
    }
   ],
   "source": [
    "#Let's extract the remainder from the division\n",
    "\n",
    "rem_result = np.remainder(n,m)\n",
    "print(rem_result)"
   ]
  },
  {
   "cell_type": "markdown",
   "metadata": {},
   "source": [
    "## Accessing components of an array\n",
    "---"
   ]
  },
  {
   "cell_type": "code",
   "execution_count": null,
   "metadata": {},
   "outputs": [],
   "source": []
  }
 ],
 "metadata": {
  "kernelspec": {
   "display_name": "Python 3",
   "language": "python",
   "name": "python3"
  },
  "language_info": {
   "codemirror_mode": {
    "name": "ipython",
    "version": 3
   },
   "file_extension": ".py",
   "mimetype": "text/x-python",
   "name": "python",
   "nbconvert_exporter": "python",
   "pygments_lexer": "ipython3",
   "version": "3.7.3"
  }
 },
 "nbformat": 4,
 "nbformat_minor": 2
}
