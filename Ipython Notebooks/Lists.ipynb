{
 "cells": [
  {
   "cell_type": "markdown",
   "metadata": {
    "colab_type": "text",
    "id": "Y7r7si--Bdi8"
   },
   "source": [
    "# Lists\n",
    "---\n",
    "\n",
    "- Generic data structure in Python consisting of an ordered collection of objects.\n",
    "- Objects in a list are also known as \"elements\" or, \"components\".\n",
    "- Elements of a list need not to be of same data type.\n",
    "  - List can consist of a numeric array, a logical value, a matrix, a complex vector, a character array, a function etc.\n",
    "- Elements are enclosed between two square brackets `[]` in a list.\n",
    "\n",
    "> ***Example-1 :***</br>\n",
    "*Create the lists for employee id, employee name and a variable that contains number of employees.*\n"
   ]
  },
  {
   "cell_type": "code",
   "execution_count": 0,
   "metadata": {
    "colab": {},
    "colab_type": "code",
    "id": "R_EYd4QAeo9O"
   },
   "outputs": [],
   "source": [
    "emp_id = [1,2,3,4]\n",
    "emp_name = [\"Ram\", \"Preeti\", \"Satish\", \"Udit\"]\n",
    "num_emp = 4"
   ]
  },
  {
   "cell_type": "markdown",
   "metadata": {
    "colab_type": "text",
    "id": "C3gzHKzXe0MR"
   },
   "source": [
    "> *Create an employee list using the employee id, employee name and number of employees*"
   ]
  },
  {
   "cell_type": "code",
   "execution_count": 3,
   "metadata": {
    "colab": {
     "base_uri": "https://localhost:8080/",
     "height": 34
    },
    "colab_type": "code",
    "executionInfo": {
     "elapsed": 1256,
     "status": "ok",
     "timestamp": 1580757435598,
     "user": {
      "displayName": "Udit Brandscapes",
      "photoUrl": "",
      "userId": "05474842254872579661"
     },
     "user_tz": -330
    },
    "id": "w4vDndz5e56Q",
    "outputId": "65120402-2667-4bb0-9acb-5fe65397bc29"
   },
   "outputs": [
    {
     "name": "stdout",
     "output_type": "stream",
     "text": [
      "[[1, 2, 3, 4], ['Ram', 'Preeti', 'Satish', 'Udit'], 4]\n"
     ]
    }
   ],
   "source": [
    "emp_list = [emp_id, emp_name, num_emp]\n",
    "print(emp_list)"
   ]
  },
  {
   "cell_type": "markdown",
   "metadata": {
    "colab_type": "text",
    "id": "ngnf7ZAXfKuv"
   },
   "source": [
    "## Indexing\n",
    "---\n",
    "There are two types of indexing :</br>\n",
    "  1. Positive indexing\n",
    "  1. Negative Indexing\n",
    "\n",
    "### Positive Indexing\n",
    "---\n",
    "- Starts from the left most element.\n",
    "- `0` is the first index\n",
    "\n",
    "### Negaive Indexing\n",
    "---\n",
    "- Starts from the right most element\n",
    "- `-1` is the first index\n",
    "\n",
    "## Accessing Components of A List\n",
    "---\n",
    "- To access the top level components, use single slicing operator `[]`.\n",
    "- For sub-level/ inner-level components, use `[]` followed by another `[]` ,i.e, `[][]`.\n",
    "\n",
    "> ***Example :***</br>\n",
    "*To extract \"Satish\" from the \"emp_name\" list -:*\n",
    "\n"
   ]
  },
  {
   "cell_type": "code",
   "execution_count": 4,
   "metadata": {
    "colab": {
     "base_uri": "https://localhost:8080/",
     "height": 51
    },
    "colab_type": "code",
    "executionInfo": {
     "elapsed": 1432,
     "status": "ok",
     "timestamp": 1580758112906,
     "user": {
      "displayName": "Udit Brandscapes",
      "photoUrl": "",
      "userId": "05474842254872579661"
     },
     "user_tz": -330
    },
    "id": "Rqdf7UGehiJT",
    "outputId": "875b8463-b428-4a3e-99dd-473694b66181"
   },
   "outputs": [
    {
     "name": "stdout",
     "output_type": "stream",
     "text": [
      "Ram\n",
      "Satish\n"
     ]
    }
   ],
   "source": [
    "print(emp_name[0]) \n",
    "\n",
    "#or,\n",
    "\n",
    "print(emp_name[-2])"
   ]
  },
  {
   "cell_type": "markdown",
   "metadata": {
    "colab_type": "text",
    "id": "_YBW8rlphvaK"
   },
   "source": [
    ">*To extract the employee id from the employee list*"
   ]
  },
  {
   "cell_type": "code",
   "execution_count": 5,
   "metadata": {
    "colab": {
     "base_uri": "https://localhost:8080/",
     "height": 34
    },
    "colab_type": "code",
    "executionInfo": {
     "elapsed": 1319,
     "status": "ok",
     "timestamp": 1580758170041,
     "user": {
      "displayName": "Udit Brandscapes",
      "photoUrl": "",
      "userId": "05474842254872579661"
     },
     "user_tz": -330
    },
    "id": "GBpKCjZXh0BX",
    "outputId": "7d1b8b97-e2ae-4ee2-8d92-c07b2d0932c0"
   },
   "outputs": [
    {
     "name": "stdout",
     "output_type": "stream",
     "text": [
      "[1, 2, 3, 4]\n"
     ]
    }
   ],
   "source": [
    "print(emp_list[0])"
   ]
  },
  {
   "cell_type": "markdown",
   "metadata": {
    "colab_type": "text",
    "id": "8rWKHQfuh7PP"
   },
   "source": [
    ">*To extract \"Preeti\"from the level \"Employee name\" that belongs to employee list*"
   ]
  },
  {
   "cell_type": "code",
   "execution_count": 6,
   "metadata": {
    "colab": {
     "base_uri": "https://localhost:8080/",
     "height": 34
    },
    "colab_type": "code",
    "executionInfo": {
     "elapsed": 1808,
     "status": "ok",
     "timestamp": 1580758215404,
     "user": {
      "displayName": "Udit Brandscapes",
      "photoUrl": "",
      "userId": "05474842254872579661"
     },
     "user_tz": -330
    },
    "id": "iutWwGezh-Me",
    "outputId": "ca3798fd-186e-4daf-b890-e9ec2374c93c"
   },
   "outputs": [
    {
     "name": "stdout",
     "output_type": "stream",
     "text": [
      "Preeti\n"
     ]
    }
   ],
   "source": [
    "print(emp_list[1][1])"
   ]
  },
  {
   "cell_type": "markdown",
   "metadata": {
    "colab_type": "text",
    "id": "H4eCzLpMiGeJ"
   },
   "source": [
    "## Modifying List Components\n",
    "---\n",
    "Elements inside a list can be modified using two methods -:\n",
    "1. Assigning new element directly to the index position that has to be updated.\n",
    "1. Using in-built functions where the element that is to be updated with is given as an input to the function along with the index position.\n",
    "\n",
    "> ***Modifying list components using index -:***</br>\n",
    "- *Assign the values to be changed to the corresponding index of the list*</br>\n",
    "- *The following command will change the value of \"num_emp\" to \"5\" from \"4\" -:*"
   ]
  },
  {
   "cell_type": "code",
   "execution_count": 7,
   "metadata": {
    "colab": {
     "base_uri": "https://localhost:8080/",
     "height": 34
    },
    "colab_type": "code",
    "executionInfo": {
     "elapsed": 1618,
     "status": "ok",
     "timestamp": 1580758445282,
     "user": {
      "displayName": "Udit Brandscapes",
      "photoUrl": "",
      "userId": "05474842254872579661"
     },
     "user_tz": -330
    },
    "id": "lD6tJ0g-ixsO",
    "outputId": "a40f3806-b935-4cc0-b729-eb611aba1f7c"
   },
   "outputs": [
    {
     "name": "stdout",
     "output_type": "stream",
     "text": [
      "[[1, 2, 3, 4], ['Ram', 'Preeti', 'Satish', 'Udit'], 5]\n"
     ]
    }
   ],
   "source": [
    "emp_list[2] = 5\n",
    "print(emp_list)"
   ]
  },
  {
   "cell_type": "markdown",
   "metadata": {
    "colab_type": "text",
    "id": "F_9Q-3LGjbFd"
   },
   "source": [
    "### append() Method\n",
    "---\n",
    "- append() -: adds an object at the end of the list\n",
    "> syntax -: </br>\n",
    "list_name[index].append(object)\n",
    "\n",
    "- In the above syntax, if the \"index\" is not specified, then the object gets added as a new level in the existing list.\n",
    "- There are two ways to add an object to a list -:\n",
    "  1. Adding an element to a list\n",
    "  1. Adding a list to a list\n",
    "\n",
    "\n",
    "\n"
   ]
  },
  {
   "cell_type": "markdown",
   "metadata": {
    "colab_type": "text",
    "id": "IzMvFITUseZZ"
   },
   "source": [
    "#### Adding Element To A List\n",
    "---\n",
    "\n",
    "- *The following command will add \"5\" at the end of \"emp_id\" level of \"emp_list\" list -:*"
   ]
  },
  {
   "cell_type": "code",
   "execution_count": 9,
   "metadata": {
    "colab": {
     "base_uri": "https://localhost:8080/",
     "height": 34
    },
    "colab_type": "code",
    "executionInfo": {
     "elapsed": 1192,
     "status": "ok",
     "timestamp": 1580758905933,
     "user": {
      "displayName": "Udit Brandscapes",
      "photoUrl": "",
      "userId": "05474842254872579661"
     },
     "user_tz": -330
    },
    "id": "zHLMjNMPkf2k",
    "outputId": "ae76d451-87a6-485c-8250-1b2dcaf25e96"
   },
   "outputs": [
    {
     "name": "stdout",
     "output_type": "stream",
     "text": [
      "[[1, 2, 3, 4, 5, 5], ['Ram', 'Preeti', 'Satish', 'Udit'], 5]\n"
     ]
    }
   ],
   "source": [
    "emp_list[0].append(5)\n",
    "print(emp_list)"
   ]
  },
  {
   "cell_type": "markdown",
   "metadata": {
    "colab_type": "text",
    "id": "oaYLaanSkxC7"
   },
   "source": [
    "- *The following command will add \"Nirmal\" at the end of \"emp_name\" level of \"emp_list\" list :*"
   ]
  },
  {
   "cell_type": "code",
   "execution_count": 10,
   "metadata": {
    "colab": {
     "base_uri": "https://localhost:8080/",
     "height": 34
    },
    "colab_type": "code",
    "executionInfo": {
     "elapsed": 2321,
     "status": "ok",
     "timestamp": 1580758984210,
     "user": {
      "displayName": "Udit Brandscapes",
      "photoUrl": "",
      "userId": "05474842254872579661"
     },
     "user_tz": -330
    },
    "id": "yc-RxfAWk4aD",
    "outputId": "2cc30347-e21d-4662-ee8c-ab889aeabe3f"
   },
   "outputs": [
    {
     "name": "stdout",
     "output_type": "stream",
     "text": [
      "[[1, 2, 3, 4, 5, 5], ['Ram', 'Preeti', 'Satish', 'Udit', 'Nirmal'], 5]\n"
     ]
    }
   ],
   "source": [
    "emp_list[1].append(\"Nirmal\")\n",
    "print(emp_list)"
   ]
  },
  {
   "cell_type": "markdown",
   "metadata": {
    "colab_type": "text",
    "id": "CbooYqvglEJx"
   },
   "source": [
    "#### Adding List To A List\n",
    "---\n",
    "- *The following command will add a new list \"age\" at the end of the \"emp_list\" list -:*"
   ]
  },
  {
   "cell_type": "code",
   "execution_count": 11,
   "metadata": {
    "colab": {
     "base_uri": "https://localhost:8080/",
     "height": 34
    },
    "colab_type": "code",
    "executionInfo": {
     "elapsed": 1331,
     "status": "ok",
     "timestamp": 1580759086463,
     "user": {
      "displayName": "Udit Brandscapes",
      "photoUrl": "",
      "userId": "05474842254872579661"
     },
     "user_tz": -330
    },
    "id": "hKdfQPBwlO9I",
    "outputId": "9e3556dc-5b2d-4ec1-9385-8961b030a4b2"
   },
   "outputs": [
    {
     "name": "stdout",
     "output_type": "stream",
     "text": [
      "[[1, 2, 3, 4, 5, 5], ['Ram', 'Preeti', 'Satish', 'Udit', 'Nirmal'], 5, [23, 24, 27, 30, 26]]\n"
     ]
    }
   ],
   "source": [
    "emp_list.append([23,24,27,30,26])\n",
    "print(emp_list)"
   ]
  },
  {
   "cell_type": "markdown",
   "metadata": {
    "colab_type": "text",
    "id": "s3j9kVOxlfad"
   },
   "source": [
    "### insert() Method -:\n",
    "---\n",
    "- insert() -: Adds an object at the given position in a list\n",
    "> ***Syntax -:*** </br>\n",
    "<i>list_name[index].insert(position, object)</i>\n",
    "\n",
    "- *Adding number \"6\" at the 1st position to the level \"emp_id\" from \"emp_list\" -:*"
   ]
  },
  {
   "cell_type": "code",
   "execution_count": 12,
   "metadata": {
    "colab": {
     "base_uri": "https://localhost:8080/",
     "height": 34
    },
    "colab_type": "code",
    "executionInfo": {
     "elapsed": 1862,
     "status": "ok",
     "timestamp": 1580759303803,
     "user": {
      "displayName": "Udit Brandscapes",
      "photoUrl": "",
      "userId": "05474842254872579661"
     },
     "user_tz": -330
    },
    "id": "khtCULfqmFIA",
    "outputId": "38cffe51-a167-4545-9dc2-b40b2b8f2b5a"
   },
   "outputs": [
    {
     "name": "stdout",
     "output_type": "stream",
     "text": [
      "[[6, 1, 2, 3, 4, 5, 5], ['Ram', 'Preeti', 'Satish', 'Udit', 'Nirmal'], 5, [23, 24, 27, 30, 26]]\n"
     ]
    }
   ],
   "source": [
    "emp_list[0].insert(0,6)\n",
    "print(emp_list)"
   ]
  },
  {
   "cell_type": "markdown",
   "metadata": {
    "colab_type": "text",
    "id": "hflcfYaMoNfe"
   },
   "source": [
    "### del() Method -:\n",
    "---\n",
    "- del() -: Removes the object at the specified index number\n",
    "\n",
    "\n",
    "> ***Syntax -:*** </br>\n",
    "<i>del list_name[index1][index2]</i>\n",
    "\n",
    "In the above syntax,\n",
    "1. index1 - Index number of the top level component to be dropped.\n",
    "1. index2 - Corresponds to the sub-level of the component to be dropped.\n",
    "\n",
    "***Example -:***\n",
    "- *Drop the last level \"age\" from the \"emp_list\"*"
   ]
  },
  {
   "cell_type": "code",
   "execution_count": 13,
   "metadata": {
    "colab": {
     "base_uri": "https://localhost:8080/",
     "height": 34
    },
    "colab_type": "code",
    "executionInfo": {
     "elapsed": 1606,
     "status": "ok",
     "timestamp": 1580760365156,
     "user": {
      "displayName": "Udit Brandscapes",
      "photoUrl": "",
      "userId": "05474842254872579661"
     },
     "user_tz": -330
    },
    "id": "n2Do28pRqIDw",
    "outputId": "1d52efd4-ccd2-4a12-b605-36240c4f37b6"
   },
   "outputs": [
    {
     "name": "stdout",
     "output_type": "stream",
     "text": [
      "[[6, 1, 2, 3, 4, 5, 5], ['Ram', 'Preeti', 'Satish', 'Udit', 'Nirmal'], 5]\n"
     ]
    }
   ],
   "source": [
    "del emp_list[3]\n",
    "print(emp_list)"
   ]
  },
  {
   "cell_type": "markdown",
   "metadata": {
    "colab_type": "text",
    "id": "VVTto4eXqZOv"
   },
   "source": [
    "### remove() Method -:\n",
    "---\n",
    "- remove() -: Removes the first matching object from the list.\n",
    "\n",
    "\n",
    "> ***Syntax -:*** </br>\n",
    "<i>list_name[index].remove(object)</i>\n",
    "\n",
    "***Example -:***\n",
    "- *Remove \"Ram\" from the \"emp_name\" level of the \"emp_list\" list*"
   ]
  },
  {
   "cell_type": "code",
   "execution_count": 14,
   "metadata": {
    "colab": {
     "base_uri": "https://localhost:8080/",
     "height": 34
    },
    "colab_type": "code",
    "executionInfo": {
     "elapsed": 4163,
     "status": "ok",
     "timestamp": 1580760533222,
     "user": {
      "displayName": "Udit Brandscapes",
      "photoUrl": "",
      "userId": "05474842254872579661"
     },
     "user_tz": -330
    },
    "id": "K_AhAxqsqxaa",
    "outputId": "3163e2d5-e5a1-48fb-fe07-59294e2d5536"
   },
   "outputs": [
    {
     "name": "stdout",
     "output_type": "stream",
     "text": [
      "[[6, 1, 2, 3, 4, 5, 5], ['Preeti', 'Satish', 'Udit', 'Nirmal'], 5]\n"
     ]
    }
   ],
   "source": [
    "emp_list[1].remove(\"Ram\")\n",
    "print(emp_list)"
   ]
  },
  {
   "cell_type": "markdown",
   "metadata": {
    "colab_type": "text",
    "id": "c0kLLpBTq-mu"
   },
   "source": [
    "### pop() Method -:\n",
    "---\n",
    "- pop() -: Displays the object that is being removed from the list at the specified index number.\n",
    "\n",
    "\n",
    "> ***Syntax -:*** </br>\n",
    "<i>list_name[index1].pop(index2)</i>\n",
    "\n",
    "In the above syntax,\n",
    "1. index1 - Index number of the top level component to be dropped.\n",
    "1. index2 - Corresponds to the sub-level of the component to be dropped.\n",
    "\n",
    "***Example -:***\n",
    "- *Remove \"4\" from the 5th position of the \"emp_id\" level from the \"emp_list\" list*"
   ]
  },
  {
   "cell_type": "code",
   "execution_count": 15,
   "metadata": {
    "colab": {
     "base_uri": "https://localhost:8080/",
     "height": 34
    },
    "colab_type": "code",
    "executionInfo": {
     "elapsed": 1990,
     "status": "ok",
     "timestamp": 1580760682607,
     "user": {
      "displayName": "Udit Brandscapes",
      "photoUrl": "",
      "userId": "05474842254872579661"
     },
     "user_tz": -330
    },
    "id": "emcPu604rVZq",
    "outputId": "62697ec1-7a0d-477b-ae4a-ac3dda8e6c8a"
   },
   "outputs": [
    {
     "name": "stdout",
     "output_type": "stream",
     "text": [
      "[[6, 1, 2, 3, 5, 5], ['Preeti', 'Satish', 'Udit', 'Nirmal'], 5]\n"
     ]
    }
   ],
   "source": [
    "emp_list[0].pop(4)\n",
    "print(emp_list)"
   ]
  }
 ],
 "metadata": {
  "colab": {
   "authorship_tag": "ABX9TyNM5dm+Ge1dXLuiK6OJIWqY",
   "collapsed_sections": [],
   "mount_file_id": "12pzLTC2Fr-EzDG6Rv0ZiUWi_nvyAxEoo",
   "name": "Lists.ipynb",
   "provenance": [],
   "toc_visible": true
  },
  "kernelspec": {
   "display_name": "Python 3",
   "language": "python",
   "name": "python3"
  },
  "language_info": {
   "codemirror_mode": {
    "name": "ipython",
    "version": 3
   },
   "file_extension": ".py",
   "mimetype": "text/x-python",
   "name": "python",
   "nbconvert_exporter": "python",
   "pygments_lexer": "ipython3",
   "version": "3.7.6"
  }
 },
 "nbformat": 4,
 "nbformat_minor": 1
}
